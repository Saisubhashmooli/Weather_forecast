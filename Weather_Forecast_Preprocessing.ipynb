{
 "cells": [
  {
   "cell_type": "markdown",
   "id": "1ffa7f5b",
   "metadata": {},
   "source": [
    "# Weathe-Forecast data preprocessing"
   ]
  },
  {
   "cell_type": "code",
   "execution_count": 1,
   "id": "b534a5a9",
   "metadata": {
    "ExecuteTime": {
     "end_time": "2023-02-12T04:12:15.556902Z",
     "start_time": "2023-02-12T04:12:14.760878Z"
    }
   },
   "outputs": [],
   "source": [
    "# Importing required libraries\n",
    "import pandas as pd # data processing, CSV file I/O (e.g. pd.read_csv)\n",
    "import numpy as np # linear algebra"
   ]
  },
  {
   "cell_type": "code",
   "execution_count": 2,
   "id": "506579ea",
   "metadata": {
    "ExecuteTime": {
     "end_time": "2023-02-12T04:12:15.651659Z",
     "start_time": "2023-02-12T04:12:15.559905Z"
    }
   },
   "outputs": [
    {
     "data": {
      "text/html": [
       "<div>\n",
       "<style scoped>\n",
       "    .dataframe tbody tr th:only-of-type {\n",
       "        vertical-align: middle;\n",
       "    }\n",
       "\n",
       "    .dataframe tbody tr th {\n",
       "        vertical-align: top;\n",
       "    }\n",
       "\n",
       "    .dataframe thead th {\n",
       "        text-align: right;\n",
       "    }\n",
       "</style>\n",
       "<table border=\"1\" class=\"dataframe\">\n",
       "  <thead>\n",
       "    <tr style=\"text-align: right;\">\n",
       "      <th></th>\n",
       "      <th>Date</th>\n",
       "      <th>Temperature</th>\n",
       "      <th>Average_humidity (%)</th>\n",
       "      <th>Average_dewpoint (°F)</th>\n",
       "      <th>Average_barometer (in)</th>\n",
       "      <th>Average_windspeed (mph)</th>\n",
       "      <th>Average_gustspeed (mph)</th>\n",
       "      <th>Average_direction (°deg)</th>\n",
       "      <th>Rainfall_for_month (in)</th>\n",
       "      <th>Rainfall_for_year (in)</th>\n",
       "      <th>...</th>\n",
       "      <th>Minimum_temperature (°F)</th>\n",
       "      <th>Maximum_humidity (%)</th>\n",
       "      <th>Minimum_humidity (%)</th>\n",
       "      <th>Maximum_pressure</th>\n",
       "      <th>Minimum_pressure</th>\n",
       "      <th>Maximum_windspeed (mph)</th>\n",
       "      <th>Maximum_gust_speed (mph)</th>\n",
       "      <th>Maximum_heat_index (°F)</th>\n",
       "      <th>Date1</th>\n",
       "      <th>diff_pressure</th>\n",
       "    </tr>\n",
       "  </thead>\n",
       "  <tbody>\n",
       "    <tr>\n",
       "      <th>0</th>\n",
       "      <td>1/1/2022</td>\n",
       "      <td>37.8</td>\n",
       "      <td>35.0</td>\n",
       "      <td>12.7</td>\n",
       "      <td>29.7</td>\n",
       "      <td>26.4</td>\n",
       "      <td>36.8</td>\n",
       "      <td>274.0</td>\n",
       "      <td>0.0</td>\n",
       "      <td>0.0</td>\n",
       "      <td>...</td>\n",
       "      <td>34.0</td>\n",
       "      <td>4.0</td>\n",
       "      <td>27.0</td>\n",
       "      <td>29.76</td>\n",
       "      <td>29.60</td>\n",
       "      <td>41.4</td>\n",
       "      <td>59.0</td>\n",
       "      <td>40.0</td>\n",
       "      <td>1/1/2022</td>\n",
       "      <td>0.17</td>\n",
       "    </tr>\n",
       "    <tr>\n",
       "      <th>1</th>\n",
       "      <td>1/2/2022</td>\n",
       "      <td>43.2</td>\n",
       "      <td>32.0</td>\n",
       "      <td>14.7</td>\n",
       "      <td>29.5</td>\n",
       "      <td>12.8</td>\n",
       "      <td>18.0</td>\n",
       "      <td>240.0</td>\n",
       "      <td>0.0</td>\n",
       "      <td>0.0</td>\n",
       "      <td>...</td>\n",
       "      <td>37.0</td>\n",
       "      <td>4.0</td>\n",
       "      <td>16.0</td>\n",
       "      <td>29.67</td>\n",
       "      <td>29.27</td>\n",
       "      <td>35.7</td>\n",
       "      <td>51.0</td>\n",
       "      <td>52.0</td>\n",
       "      <td>1/2/2022</td>\n",
       "      <td>0.4</td>\n",
       "    </tr>\n",
       "    <tr>\n",
       "      <th>2</th>\n",
       "      <td>1/3/2022</td>\n",
       "      <td>25.7</td>\n",
       "      <td>60.0</td>\n",
       "      <td>12.7</td>\n",
       "      <td>29.7</td>\n",
       "      <td>8.3</td>\n",
       "      <td>12.2</td>\n",
       "      <td>290.0</td>\n",
       "      <td>0.0</td>\n",
       "      <td>0.0</td>\n",
       "      <td>...</td>\n",
       "      <td>6.0</td>\n",
       "      <td>8.0</td>\n",
       "      <td>35.0</td>\n",
       "      <td>30.23</td>\n",
       "      <td>29.26</td>\n",
       "      <td>25.3</td>\n",
       "      <td>38.0</td>\n",
       "      <td>41.0</td>\n",
       "      <td>1/3/2022</td>\n",
       "      <td>0.97</td>\n",
       "    </tr>\n",
       "    <tr>\n",
       "      <th>3</th>\n",
       "      <td>1/4/2022</td>\n",
       "      <td>9.3</td>\n",
       "      <td>67.0</td>\n",
       "      <td>0.1</td>\n",
       "      <td>30.4</td>\n",
       "      <td>2.9</td>\n",
       "      <td>4.5</td>\n",
       "      <td>47.0</td>\n",
       "      <td>0.0</td>\n",
       "      <td>0.0</td>\n",
       "      <td>...</td>\n",
       "      <td>0.0</td>\n",
       "      <td>7.0</td>\n",
       "      <td>35.0</td>\n",
       "      <td>30.57</td>\n",
       "      <td>30.23</td>\n",
       "      <td>12.7</td>\n",
       "      <td>20.0</td>\n",
       "      <td>32.0</td>\n",
       "      <td>1/4/2022</td>\n",
       "      <td>0.34</td>\n",
       "    </tr>\n",
       "    <tr>\n",
       "      <th>4</th>\n",
       "      <td>1/5/2022</td>\n",
       "      <td>23.5</td>\n",
       "      <td>30.0</td>\n",
       "      <td>-5.3</td>\n",
       "      <td>29.9</td>\n",
       "      <td>16.7</td>\n",
       "      <td>23.1</td>\n",
       "      <td>265.0</td>\n",
       "      <td>0.0</td>\n",
       "      <td>0.0</td>\n",
       "      <td>...</td>\n",
       "      <td>15.0</td>\n",
       "      <td>5.0</td>\n",
       "      <td>13.0</td>\n",
       "      <td>30.23</td>\n",
       "      <td>29.57</td>\n",
       "      <td>38.0</td>\n",
       "      <td>53.0</td>\n",
       "      <td>32.0</td>\n",
       "      <td>1/5/2022</td>\n",
       "      <td>0.66</td>\n",
       "    </tr>\n",
       "  </tbody>\n",
       "</table>\n",
       "<p>5 rows × 22 columns</p>\n",
       "</div>"
      ],
      "text/plain": [
       "       Date   Temperature   Average_humidity (%)   Average_dewpoint (°F)  \\\n",
       "0  1/1/2022          37.8                   35.0                    12.7   \n",
       "1  1/2/2022          43.2                   32.0                    14.7   \n",
       "2  1/3/2022          25.7                   60.0                    12.7   \n",
       "3  1/4/2022           9.3                   67.0                     0.1   \n",
       "4  1/5/2022          23.5                   30.0                    -5.3   \n",
       "\n",
       "    Average_barometer (in)   Average_windspeed (mph)  \\\n",
       "0                     29.7                      26.4   \n",
       "1                     29.5                      12.8   \n",
       "2                     29.7                       8.3   \n",
       "3                     30.4                       2.9   \n",
       "4                     29.9                      16.7   \n",
       "\n",
       "    Average_gustspeed (mph)   Average_direction (°deg)  \\\n",
       "0                      36.8                      274.0   \n",
       "1                      18.0                      240.0   \n",
       "2                      12.2                      290.0   \n",
       "3                       4.5                       47.0   \n",
       "4                      23.1                      265.0   \n",
       "\n",
       "    Rainfall_for_month (in)  Rainfall_for_year (in)  ...  \\\n",
       "0                       0.0                     0.0  ...   \n",
       "1                       0.0                     0.0  ...   \n",
       "2                       0.0                     0.0  ...   \n",
       "3                       0.0                     0.0  ...   \n",
       "4                       0.0                     0.0  ...   \n",
       "\n",
       "    Minimum_temperature (°F)   Maximum_humidity (%)   Minimum_humidity (%)  \\\n",
       "0                       34.0                    4.0                   27.0   \n",
       "1                       37.0                    4.0                   16.0   \n",
       "2                        6.0                    8.0                   35.0   \n",
       "3                        0.0                    7.0                   35.0   \n",
       "4                       15.0                    5.0                   13.0   \n",
       "\n",
       "    Maximum_pressure   Minimum_pressure   Maximum_windspeed (mph)  \\\n",
       "0              29.76              29.60                      41.4   \n",
       "1              29.67              29.27                      35.7   \n",
       "2              30.23              29.26                      25.3   \n",
       "3              30.57              30.23                      12.7   \n",
       "4              30.23              29.57                      38.0   \n",
       "\n",
       "    Maximum_gust_speed (mph)   Maximum_heat_index (°F)     Date1  \\\n",
       "0                       59.0                      40.0  1/1/2022   \n",
       "1                       51.0                      52.0  1/2/2022   \n",
       "2                       38.0                      41.0  1/3/2022   \n",
       "3                       20.0                      32.0  1/4/2022   \n",
       "4                       53.0                      32.0  1/5/2022   \n",
       "\n",
       "    diff_pressure  \n",
       "0            0.17  \n",
       "1             0.4  \n",
       "2            0.97  \n",
       "3            0.34  \n",
       "4            0.66  \n",
       "\n",
       "[5 rows x 22 columns]"
      ]
     },
     "execution_count": 2,
     "metadata": {},
     "output_type": "execute_result"
    }
   ],
   "source": [
    "# Loading the dataset with use of pandas\n",
    "weather = pd.read_csv(\"weather_cleaned.csv\")\n",
    "weather.head()"
   ]
  },
  {
   "cell_type": "code",
   "execution_count": 3,
   "id": "bb12cc42",
   "metadata": {
    "ExecuteTime": {
     "end_time": "2023-02-12T04:12:15.667614Z",
     "start_time": "2023-02-12T04:12:15.656644Z"
    }
   },
   "outputs": [
    {
     "data": {
      "text/plain": [
       "(3934, 22)"
      ]
     },
     "execution_count": 3,
     "metadata": {},
     "output_type": "execute_result"
    }
   ],
   "source": [
    "# Shape of the data\n",
    "weather.shape"
   ]
  },
  {
   "cell_type": "markdown",
   "id": "9a091a9e",
   "metadata": {},
   "source": [
    "# Check for Null Vales"
   ]
  },
  {
   "cell_type": "code",
   "execution_count": 4,
   "id": "09313f46",
   "metadata": {
    "ExecuteTime": {
     "end_time": "2023-02-12T04:12:15.699529Z",
     "start_time": "2023-02-12T04:12:15.671604Z"
    }
   },
   "outputs": [
    {
     "name": "stdout",
     "output_type": "stream",
     "text": [
      "Date                         False\n",
      " Temperature                 False\n",
      " Average_humidity (%)        False\n",
      " Average_dewpoint (°F)       False\n",
      " Average_barometer (in)      False\n",
      " Average_windspeed (mph)     False\n",
      " Average_gustspeed (mph)     False\n",
      " Average_direction (°deg)    False\n",
      " Rainfall_for_month (in)     False\n",
      "Rainfall_for_year (in)       False\n",
      " Maximum_rain_per_minute     False\n",
      " Maximum_temperature (°F)    False\n",
      " Minimum_temperature (°F)    False\n",
      " Maximum_humidity (%)        False\n",
      " Minimum_humidity (%)        False\n",
      " Maximum_pressure            False\n",
      " Minimum_pressure            False\n",
      " Maximum_windspeed (mph)     False\n",
      " Maximum_gust_speed (mph)    False\n",
      " Maximum_heat_index (°F)     False\n",
      "Date1                        False\n",
      " diff_pressure               False\n",
      "dtype: bool\n"
     ]
    }
   ],
   "source": [
    "# To find null values in the dataset\n",
    "print(weather.isnull().any())"
   ]
  },
  {
   "cell_type": "code",
   "execution_count": 5,
   "id": "18b49a24",
   "metadata": {
    "ExecuteTime": {
     "end_time": "2023-02-12T04:12:15.747439Z",
     "start_time": "2023-02-12T04:12:15.703518Z"
    }
   },
   "outputs": [
    {
     "name": "stdout",
     "output_type": "stream",
     "text": [
      "<class 'pandas.core.frame.DataFrame'>\n",
      "RangeIndex: 3934 entries, 0 to 3933\n",
      "Data columns (total 22 columns):\n",
      " #   Column                     Non-Null Count  Dtype  \n",
      "---  ------                     --------------  -----  \n",
      " 0   Date                       3934 non-null   object \n",
      " 1    Temperature               3934 non-null   float64\n",
      " 2    Average_humidity (%)      3934 non-null   float64\n",
      " 3    Average_dewpoint (°F)     3934 non-null   float64\n",
      " 4    Average_barometer (in)    3934 non-null   float64\n",
      " 5    Average_windspeed (mph)   3934 non-null   float64\n",
      " 6    Average_gustspeed (mph)   3934 non-null   float64\n",
      " 7    Average_direction (°deg)  3934 non-null   float64\n",
      " 8    Rainfall_for_month (in)   3934 non-null   float64\n",
      " 9   Rainfall_for_year (in)     3934 non-null   float64\n",
      " 10   Maximum_rain_per_minute   3934 non-null   float64\n",
      " 11   Maximum_temperature (°F)  3934 non-null   float64\n",
      " 12   Minimum_temperature (°F)  3934 non-null   float64\n",
      " 13   Maximum_humidity (%)      3934 non-null   float64\n",
      " 14   Minimum_humidity (%)      3934 non-null   float64\n",
      " 15   Maximum_pressure          3934 non-null   float64\n",
      " 16   Minimum_pressure          3934 non-null   float64\n",
      " 17   Maximum_windspeed (mph)   3934 non-null   float64\n",
      " 18   Maximum_gust_speed (mph)  3934 non-null   float64\n",
      " 19   Maximum_heat_index (°F)   3934 non-null   float64\n",
      " 20  Date1                      3934 non-null   object \n",
      " 21   diff_pressure             3934 non-null   object \n",
      "dtypes: float64(19), object(3)\n",
      "memory usage: 676.3+ KB\n"
     ]
    }
   ],
   "source": [
    "# Check the null values and data types with pandas.info()\n",
    "weather.info()"
   ]
  },
  {
   "cell_type": "markdown",
   "id": "f70cbee4",
   "metadata": {},
   "source": [
    "# Removing Duplicates and columns"
   ]
  },
  {
   "cell_type": "code",
   "execution_count": 6,
   "id": "9332ba85",
   "metadata": {
    "ExecuteTime": {
     "end_time": "2023-02-12T04:12:15.779315Z",
     "start_time": "2023-02-12T04:12:15.752389Z"
    }
   },
   "outputs": [],
   "source": [
    "# Dropping the duplicates in the given dataset\n",
    "weather.drop_duplicates(keep=\"first\", inplace=True)"
   ]
  },
  {
   "cell_type": "code",
   "execution_count": 7,
   "id": "4491c3d0",
   "metadata": {
    "ExecuteTime": {
     "end_time": "2023-02-12T04:12:15.810084Z",
     "start_time": "2023-02-12T04:12:15.786298Z"
    }
   },
   "outputs": [
    {
     "name": "stdout",
     "output_type": "stream",
     "text": [
      "Empty DataFrame\n",
      "Columns: [Date,  Temperature,  Average_humidity (%),  Average_dewpoint (°F),  Average_barometer (in),  Average_windspeed (mph),  Average_gustspeed (mph),  Average_direction (°deg),  Rainfall_for_month (in), Rainfall_for_year (in),  Maximum_rain_per_minute,  Maximum_temperature (°F),  Minimum_temperature (°F),  Maximum_humidity (%),  Minimum_humidity (%),  Maximum_pressure,  Minimum_pressure,  Maximum_windspeed (mph),  Maximum_gust_speed (mph),  Maximum_heat_index (°F), Date1,  diff_pressure]\n",
      "Index: []\n",
      "\n",
      "[0 rows x 22 columns]\n"
     ]
    }
   ],
   "source": [
    "# Check the values of Date fields are same or not\n",
    "print(weather.loc[weather[\"Date\"] != weather[\"Date1\"]])"
   ]
  },
  {
   "cell_type": "code",
   "execution_count": 8,
   "id": "37691402",
   "metadata": {
    "ExecuteTime": {
     "end_time": "2023-02-12T04:12:15.826050Z",
     "start_time": "2023-02-12T04:12:15.812086Z"
    }
   },
   "outputs": [
    {
     "name": "stdout",
     "output_type": "stream",
     "text": [
      "Index(['Date', ' Temperature', ' Average_humidity (%)',\n",
      "       ' Average_dewpoint (°F)', ' Average_barometer (in)',\n",
      "       ' Average_windspeed (mph)', ' Average_gustspeed (mph)',\n",
      "       ' Average_direction (°deg)', ' Rainfall_for_month (in)',\n",
      "       'Rainfall_for_year (in)', ' Maximum_rain_per_minute',\n",
      "       ' Maximum_temperature (°F)', ' Minimum_temperature (°F)',\n",
      "       ' Maximum_humidity (%)', ' Minimum_humidity (%)', ' Maximum_pressure',\n",
      "       ' Minimum_pressure', ' Maximum_windspeed (mph)',\n",
      "       ' Maximum_gust_speed (mph)', ' Maximum_heat_index (°F)', 'Date1',\n",
      "       ' diff_pressure'],\n",
      "      dtype='object')\n"
     ]
    }
   ],
   "source": [
    "# check the columns in the dataset\n",
    "print(weather.columns)"
   ]
  },
  {
   "cell_type": "markdown",
   "id": "d309b2b4",
   "metadata": {},
   "source": [
    "The date fields are the exact same, so Date1 should be removed.\n",
    "\n",
    "Looking at the columns, I think I should also remove most of the min and max fields, as I want to look at the average (with exception to temperature, as I am interested in how that one specifically changes). Wind direction also appears to be something that does not change anything, as a gust of wind is a gust of wind from any direction.\n",
    "\n",
    "I should also not use rainfall as it is here, as it builds until the end of the month/year to get the rain value. I am looking at this in a daily context, so if I want to use rainfall, I should get the difference per day in order to get the rainfall per day. That is not inherently useful either, so I will just drop it."
   ]
  },
  {
   "cell_type": "code",
   "execution_count": 9,
   "id": "765a7605",
   "metadata": {
    "ExecuteTime": {
     "end_time": "2023-02-12T04:12:15.889880Z",
     "start_time": "2023-02-12T04:12:15.839015Z"
    }
   },
   "outputs": [
    {
     "data": {
      "text/html": [
       "<div>\n",
       "<style scoped>\n",
       "    .dataframe tbody tr th:only-of-type {\n",
       "        vertical-align: middle;\n",
       "    }\n",
       "\n",
       "    .dataframe tbody tr th {\n",
       "        vertical-align: top;\n",
       "    }\n",
       "\n",
       "    .dataframe thead th {\n",
       "        text-align: right;\n",
       "    }\n",
       "</style>\n",
       "<table border=\"1\" class=\"dataframe\">\n",
       "  <thead>\n",
       "    <tr style=\"text-align: right;\">\n",
       "      <th></th>\n",
       "      <th>Date</th>\n",
       "      <th>Temperature</th>\n",
       "      <th>Average_humidity (%)</th>\n",
       "      <th>Average_dewpoint (°F)</th>\n",
       "      <th>Average_barometer (in)</th>\n",
       "      <th>Average_windspeed (mph)</th>\n",
       "      <th>Maximum_temperature (°F)</th>\n",
       "      <th>Minimum_temperature (°F)</th>\n",
       "      <th>Maximum_gust_speed (mph)</th>\n",
       "    </tr>\n",
       "  </thead>\n",
       "  <tbody>\n",
       "    <tr>\n",
       "      <th>0</th>\n",
       "      <td>1/1/2022</td>\n",
       "      <td>37.8</td>\n",
       "      <td>35.0</td>\n",
       "      <td>12.7</td>\n",
       "      <td>29.7</td>\n",
       "      <td>26.4</td>\n",
       "      <td>40.0</td>\n",
       "      <td>34.0</td>\n",
       "      <td>59.0</td>\n",
       "    </tr>\n",
       "    <tr>\n",
       "      <th>1</th>\n",
       "      <td>1/2/2022</td>\n",
       "      <td>43.2</td>\n",
       "      <td>32.0</td>\n",
       "      <td>14.7</td>\n",
       "      <td>29.5</td>\n",
       "      <td>12.8</td>\n",
       "      <td>52.0</td>\n",
       "      <td>37.0</td>\n",
       "      <td>51.0</td>\n",
       "    </tr>\n",
       "    <tr>\n",
       "      <th>2</th>\n",
       "      <td>1/3/2022</td>\n",
       "      <td>25.7</td>\n",
       "      <td>60.0</td>\n",
       "      <td>12.7</td>\n",
       "      <td>29.7</td>\n",
       "      <td>8.3</td>\n",
       "      <td>41.0</td>\n",
       "      <td>6.0</td>\n",
       "      <td>38.0</td>\n",
       "    </tr>\n",
       "    <tr>\n",
       "      <th>3</th>\n",
       "      <td>1/4/2022</td>\n",
       "      <td>9.3</td>\n",
       "      <td>67.0</td>\n",
       "      <td>0.1</td>\n",
       "      <td>30.4</td>\n",
       "      <td>2.9</td>\n",
       "      <td>19.0</td>\n",
       "      <td>0.0</td>\n",
       "      <td>20.0</td>\n",
       "    </tr>\n",
       "    <tr>\n",
       "      <th>4</th>\n",
       "      <td>1/5/2022</td>\n",
       "      <td>23.5</td>\n",
       "      <td>30.0</td>\n",
       "      <td>-5.3</td>\n",
       "      <td>29.9</td>\n",
       "      <td>16.7</td>\n",
       "      <td>30.0</td>\n",
       "      <td>15.0</td>\n",
       "      <td>53.0</td>\n",
       "    </tr>\n",
       "  </tbody>\n",
       "</table>\n",
       "</div>"
      ],
      "text/plain": [
       "       Date   Temperature   Average_humidity (%)   Average_dewpoint (°F)  \\\n",
       "0  1/1/2022          37.8                   35.0                    12.7   \n",
       "1  1/2/2022          43.2                   32.0                    14.7   \n",
       "2  1/3/2022          25.7                   60.0                    12.7   \n",
       "3  1/4/2022           9.3                   67.0                     0.1   \n",
       "4  1/5/2022          23.5                   30.0                    -5.3   \n",
       "\n",
       "    Average_barometer (in)   Average_windspeed (mph)  \\\n",
       "0                     29.7                      26.4   \n",
       "1                     29.5                      12.8   \n",
       "2                     29.7                       8.3   \n",
       "3                     30.4                       2.9   \n",
       "4                     29.9                      16.7   \n",
       "\n",
       "    Maximum_temperature (°F)   Minimum_temperature (°F)  \\\n",
       "0                       40.0                       34.0   \n",
       "1                       52.0                       37.0   \n",
       "2                       41.0                        6.0   \n",
       "3                       19.0                        0.0   \n",
       "4                       30.0                       15.0   \n",
       "\n",
       "    Maximum_gust_speed (mph)  \n",
       "0                       59.0  \n",
       "1                       51.0  \n",
       "2                       38.0  \n",
       "3                       20.0  \n",
       "4                       53.0  "
      ]
     },
     "execution_count": 9,
     "metadata": {},
     "output_type": "execute_result"
    }
   ],
   "source": [
    "# Dropping the columns not required in the dataset\n",
    "weatherClean = weather.drop([\" Average_gustspeed (mph)\", \" Average_direction (°deg)\", \" Rainfall_for_month (in)\", \"Rainfall_for_year (in)\",\n",
    "                        \" Maximum_rain_per_minute\", \" Maximum_humidity (%)\", \" Minimum_humidity (%)\", \" Maximum_pressure\", \n",
    "                        \" Minimum_pressure\", \" Maximum_windspeed (mph)\", \" Maximum_heat_index (°F)\",\n",
    "                        \"Date1\", \" diff_pressure\"], axis = 1)\n",
    "\n",
    "weatherClean.head() #Take a peek at the dataset"
   ]
  },
  {
   "cell_type": "markdown",
   "id": "4b777363",
   "metadata": {},
   "source": [
    "# Fixing the Labels\n",
    "\n",
    "For this, I will have all the average as just the field name. For example, Average Temperature (°F) would become Temperature. The min and max temp will become minTemperature and maxTemperature respectively"
   ]
  },
  {
   "cell_type": "code",
   "execution_count": 10,
   "id": "f63f6d6d",
   "metadata": {
    "ExecuteTime": {
     "end_time": "2023-02-12T04:12:15.951713Z",
     "start_time": "2023-02-12T04:12:15.892869Z"
    }
   },
   "outputs": [
    {
     "data": {
      "text/html": [
       "<div>\n",
       "<style scoped>\n",
       "    .dataframe tbody tr th:only-of-type {\n",
       "        vertical-align: middle;\n",
       "    }\n",
       "\n",
       "    .dataframe tbody tr th {\n",
       "        vertical-align: top;\n",
       "    }\n",
       "\n",
       "    .dataframe thead th {\n",
       "        text-align: right;\n",
       "    }\n",
       "</style>\n",
       "<table border=\"1\" class=\"dataframe\">\n",
       "  <thead>\n",
       "    <tr style=\"text-align: right;\">\n",
       "      <th></th>\n",
       "      <th>Date</th>\n",
       "      <th>Temperature</th>\n",
       "      <th>Humidity</th>\n",
       "      <th>Dewpoint</th>\n",
       "      <th>Pressure</th>\n",
       "      <th>Windspeed</th>\n",
       "      <th>MaxTemperature</th>\n",
       "      <th>MinTemperature</th>\n",
       "      <th>MaxGustSpeed</th>\n",
       "    </tr>\n",
       "  </thead>\n",
       "  <tbody>\n",
       "    <tr>\n",
       "      <th>0</th>\n",
       "      <td>1/1/2022</td>\n",
       "      <td>37.8</td>\n",
       "      <td>35.0</td>\n",
       "      <td>12.7</td>\n",
       "      <td>29.7</td>\n",
       "      <td>26.4</td>\n",
       "      <td>40.0</td>\n",
       "      <td>34.0</td>\n",
       "      <td>59.0</td>\n",
       "    </tr>\n",
       "    <tr>\n",
       "      <th>1</th>\n",
       "      <td>1/2/2022</td>\n",
       "      <td>43.2</td>\n",
       "      <td>32.0</td>\n",
       "      <td>14.7</td>\n",
       "      <td>29.5</td>\n",
       "      <td>12.8</td>\n",
       "      <td>52.0</td>\n",
       "      <td>37.0</td>\n",
       "      <td>51.0</td>\n",
       "    </tr>\n",
       "    <tr>\n",
       "      <th>2</th>\n",
       "      <td>1/3/2022</td>\n",
       "      <td>25.7</td>\n",
       "      <td>60.0</td>\n",
       "      <td>12.7</td>\n",
       "      <td>29.7</td>\n",
       "      <td>8.3</td>\n",
       "      <td>41.0</td>\n",
       "      <td>6.0</td>\n",
       "      <td>38.0</td>\n",
       "    </tr>\n",
       "    <tr>\n",
       "      <th>3</th>\n",
       "      <td>1/4/2022</td>\n",
       "      <td>9.3</td>\n",
       "      <td>67.0</td>\n",
       "      <td>0.1</td>\n",
       "      <td>30.4</td>\n",
       "      <td>2.9</td>\n",
       "      <td>19.0</td>\n",
       "      <td>0.0</td>\n",
       "      <td>20.0</td>\n",
       "    </tr>\n",
       "    <tr>\n",
       "      <th>4</th>\n",
       "      <td>1/5/2022</td>\n",
       "      <td>23.5</td>\n",
       "      <td>30.0</td>\n",
       "      <td>-5.3</td>\n",
       "      <td>29.9</td>\n",
       "      <td>16.7</td>\n",
       "      <td>30.0</td>\n",
       "      <td>15.0</td>\n",
       "      <td>53.0</td>\n",
       "    </tr>\n",
       "  </tbody>\n",
       "</table>\n",
       "</div>"
      ],
      "text/plain": [
       "       Date  Temperature  Humidity  Dewpoint  Pressure  Windspeed  \\\n",
       "0  1/1/2022         37.8      35.0      12.7      29.7       26.4   \n",
       "1  1/2/2022         43.2      32.0      14.7      29.5       12.8   \n",
       "2  1/3/2022         25.7      60.0      12.7      29.7        8.3   \n",
       "3  1/4/2022          9.3      67.0       0.1      30.4        2.9   \n",
       "4  1/5/2022         23.5      30.0      -5.3      29.9       16.7   \n",
       "\n",
       "   MaxTemperature  MinTemperature  MaxGustSpeed  \n",
       "0            40.0            34.0          59.0  \n",
       "1            52.0            37.0          51.0  \n",
       "2            41.0             6.0          38.0  \n",
       "3            19.0             0.0          20.0  \n",
       "4            30.0            15.0          53.0  "
      ]
     },
     "execution_count": 10,
     "metadata": {},
     "output_type": "execute_result"
    }
   ],
   "source": [
    "current_labels = list(weatherClean.columns)\n",
    "\n",
    "new_labels = [\"Temperature\", \"Humidity\", \"Dewpoint\", \"Pressure\", \"Windspeed\", \"MaxTemperature\", \"MinTemperature\", \"MaxGustSpeed\"]\n",
    "num_labels = len(new_labels)\n",
    "\n",
    "for i in range(0, num_labels):\n",
    "    weatherClean = weatherClean.rename(columns= {current_labels[i + 1] : new_labels[i]})\n",
    "    \n",
    "weatherClean.head()"
   ]
  },
  {
   "cell_type": "code",
   "execution_count": 11,
   "id": "89c7852a",
   "metadata": {
    "ExecuteTime": {
     "end_time": "2023-02-12T04:12:15.967671Z",
     "start_time": "2023-02-12T04:12:15.954704Z"
    }
   },
   "outputs": [
    {
     "name": "stdout",
     "output_type": "stream",
     "text": [
      "Date               object\n",
      "Temperature       float64\n",
      "Humidity          float64\n",
      "Dewpoint          float64\n",
      "Pressure          float64\n",
      "Windspeed         float64\n",
      "MaxTemperature    float64\n",
      "MinTemperature    float64\n",
      "MaxGustSpeed      float64\n",
      "dtype: object\n"
     ]
    }
   ],
   "source": [
    "print(weatherClean.dtypes)"
   ]
  },
  {
   "cell_type": "markdown",
   "id": "8a01d454",
   "metadata": {},
   "source": [
    "# Set the Dates to Index"
   ]
  },
  {
   "cell_type": "code",
   "execution_count": 13,
   "id": "953539af",
   "metadata": {
    "ExecuteTime": {
     "end_time": "2023-02-12T04:14:46.875643Z",
     "start_time": "2023-02-12T04:14:46.494617Z"
    }
   },
   "outputs": [
    {
     "data": {
      "text/html": [
       "<div>\n",
       "<style scoped>\n",
       "    .dataframe tbody tr th:only-of-type {\n",
       "        vertical-align: middle;\n",
       "    }\n",
       "\n",
       "    .dataframe tbody tr th {\n",
       "        vertical-align: top;\n",
       "    }\n",
       "\n",
       "    .dataframe thead th {\n",
       "        text-align: right;\n",
       "    }\n",
       "</style>\n",
       "<table border=\"1\" class=\"dataframe\">\n",
       "  <thead>\n",
       "    <tr style=\"text-align: right;\">\n",
       "      <th></th>\n",
       "      <th>Temperature</th>\n",
       "      <th>Humidity</th>\n",
       "      <th>Dewpoint</th>\n",
       "      <th>Pressure</th>\n",
       "      <th>Windspeed</th>\n",
       "      <th>MaxTemperature</th>\n",
       "      <th>MinTemperature</th>\n",
       "      <th>MaxGustSpeed</th>\n",
       "    </tr>\n",
       "    <tr>\n",
       "      <th>Date</th>\n",
       "      <th></th>\n",
       "      <th></th>\n",
       "      <th></th>\n",
       "      <th></th>\n",
       "      <th></th>\n",
       "      <th></th>\n",
       "      <th></th>\n",
       "      <th></th>\n",
       "    </tr>\n",
       "  </thead>\n",
       "  <tbody>\n",
       "    <tr>\n",
       "      <th>2022-01-01</th>\n",
       "      <td>37.8</td>\n",
       "      <td>35.0</td>\n",
       "      <td>12.7</td>\n",
       "      <td>29.7</td>\n",
       "      <td>26.4</td>\n",
       "      <td>40.0</td>\n",
       "      <td>34.0</td>\n",
       "      <td>59.0</td>\n",
       "    </tr>\n",
       "    <tr>\n",
       "      <th>2022-01-02</th>\n",
       "      <td>43.2</td>\n",
       "      <td>32.0</td>\n",
       "      <td>14.7</td>\n",
       "      <td>29.5</td>\n",
       "      <td>12.8</td>\n",
       "      <td>52.0</td>\n",
       "      <td>37.0</td>\n",
       "      <td>51.0</td>\n",
       "    </tr>\n",
       "    <tr>\n",
       "      <th>2022-01-03</th>\n",
       "      <td>25.7</td>\n",
       "      <td>60.0</td>\n",
       "      <td>12.7</td>\n",
       "      <td>29.7</td>\n",
       "      <td>8.3</td>\n",
       "      <td>41.0</td>\n",
       "      <td>6.0</td>\n",
       "      <td>38.0</td>\n",
       "    </tr>\n",
       "    <tr>\n",
       "      <th>2022-01-04</th>\n",
       "      <td>9.3</td>\n",
       "      <td>67.0</td>\n",
       "      <td>0.1</td>\n",
       "      <td>30.4</td>\n",
       "      <td>2.9</td>\n",
       "      <td>19.0</td>\n",
       "      <td>0.0</td>\n",
       "      <td>20.0</td>\n",
       "    </tr>\n",
       "    <tr>\n",
       "      <th>2022-01-05</th>\n",
       "      <td>23.5</td>\n",
       "      <td>30.0</td>\n",
       "      <td>-5.3</td>\n",
       "      <td>29.9</td>\n",
       "      <td>16.7</td>\n",
       "      <td>30.0</td>\n",
       "      <td>15.0</td>\n",
       "      <td>53.0</td>\n",
       "    </tr>\n",
       "    <tr>\n",
       "      <th>2022-01-06</th>\n",
       "      <td>24.8</td>\n",
       "      <td>42.0</td>\n",
       "      <td>4.6</td>\n",
       "      <td>29.8</td>\n",
       "      <td>16.0</td>\n",
       "      <td>29.0</td>\n",
       "      <td>19.0</td>\n",
       "      <td>48.0</td>\n",
       "    </tr>\n",
       "    <tr>\n",
       "      <th>2022-01-07</th>\n",
       "      <td>34.2</td>\n",
       "      <td>60.0</td>\n",
       "      <td>21.6</td>\n",
       "      <td>29.7</td>\n",
       "      <td>20.4</td>\n",
       "      <td>39.0</td>\n",
       "      <td>27.0</td>\n",
       "      <td>54.0</td>\n",
       "    </tr>\n",
       "    <tr>\n",
       "      <th>2022-01-08</th>\n",
       "      <td>42.1</td>\n",
       "      <td>41.0</td>\n",
       "      <td>20.0</td>\n",
       "      <td>29.8</td>\n",
       "      <td>17.5</td>\n",
       "      <td>51.0</td>\n",
       "      <td>36.0</td>\n",
       "      <td>49.0</td>\n",
       "    </tr>\n",
       "    <tr>\n",
       "      <th>2022-01-09</th>\n",
       "      <td>30.3</td>\n",
       "      <td>46.0</td>\n",
       "      <td>11.4</td>\n",
       "      <td>30.0</td>\n",
       "      <td>6.9</td>\n",
       "      <td>41.0</td>\n",
       "      <td>19.0</td>\n",
       "      <td>36.0</td>\n",
       "    </tr>\n",
       "    <tr>\n",
       "      <th>2022-01-10</th>\n",
       "      <td>26.2</td>\n",
       "      <td>38.0</td>\n",
       "      <td>3.6</td>\n",
       "      <td>30.4</td>\n",
       "      <td>18.2</td>\n",
       "      <td>31.0</td>\n",
       "      <td>22.0</td>\n",
       "      <td>46.0</td>\n",
       "    </tr>\n",
       "    <tr>\n",
       "      <th>2022-01-11</th>\n",
       "      <td>30.1</td>\n",
       "      <td>41.0</td>\n",
       "      <td>9.0</td>\n",
       "      <td>30.3</td>\n",
       "      <td>17.0</td>\n",
       "      <td>36.0</td>\n",
       "      <td>26.0</td>\n",
       "      <td>44.0</td>\n",
       "    </tr>\n",
       "    <tr>\n",
       "      <th>2022-01-12</th>\n",
       "      <td>23.4</td>\n",
       "      <td>60.0</td>\n",
       "      <td>11.0</td>\n",
       "      <td>30.3</td>\n",
       "      <td>7.4</td>\n",
       "      <td>31.0</td>\n",
       "      <td>16.0</td>\n",
       "      <td>33.0</td>\n",
       "    </tr>\n",
       "  </tbody>\n",
       "</table>\n",
       "</div>"
      ],
      "text/plain": [
       "            Temperature  Humidity  Dewpoint  Pressure  Windspeed  \\\n",
       "Date                                                               \n",
       "2022-01-01         37.8      35.0      12.7      29.7       26.4   \n",
       "2022-01-02         43.2      32.0      14.7      29.5       12.8   \n",
       "2022-01-03         25.7      60.0      12.7      29.7        8.3   \n",
       "2022-01-04          9.3      67.0       0.1      30.4        2.9   \n",
       "2022-01-05         23.5      30.0      -5.3      29.9       16.7   \n",
       "2022-01-06         24.8      42.0       4.6      29.8       16.0   \n",
       "2022-01-07         34.2      60.0      21.6      29.7       20.4   \n",
       "2022-01-08         42.1      41.0      20.0      29.8       17.5   \n",
       "2022-01-09         30.3      46.0      11.4      30.0        6.9   \n",
       "2022-01-10         26.2      38.0       3.6      30.4       18.2   \n",
       "2022-01-11         30.1      41.0       9.0      30.3       17.0   \n",
       "2022-01-12         23.4      60.0      11.0      30.3        7.4   \n",
       "\n",
       "            MaxTemperature  MinTemperature  MaxGustSpeed  \n",
       "Date                                                      \n",
       "2022-01-01            40.0            34.0          59.0  \n",
       "2022-01-02            52.0            37.0          51.0  \n",
       "2022-01-03            41.0             6.0          38.0  \n",
       "2022-01-04            19.0             0.0          20.0  \n",
       "2022-01-05            30.0            15.0          53.0  \n",
       "2022-01-06            29.0            19.0          48.0  \n",
       "2022-01-07            39.0            27.0          54.0  \n",
       "2022-01-08            51.0            36.0          49.0  \n",
       "2022-01-09            41.0            19.0          36.0  \n",
       "2022-01-10            31.0            22.0          46.0  \n",
       "2022-01-11            36.0            26.0          44.0  \n",
       "2022-01-12            31.0            16.0          33.0  "
      ]
     },
     "execution_count": 13,
     "metadata": {},
     "output_type": "execute_result"
    }
   ],
   "source": [
    "weatherClean[\"Date\"] = pd.to_datetime(weatherClean[\"Date\"]) #Ensure the date data is in datetime format\n",
    "weatherClean.set_index(\"Date\", inplace = True) #Set the date to the index\n",
    "\n",
    "weatherClean.head(12) #Take a peek at the data"
   ]
  },
  {
   "cell_type": "code",
   "execution_count": 14,
   "id": "6d58c246",
   "metadata": {
    "ExecuteTime": {
     "end_time": "2023-02-12T04:14:52.325904Z",
     "start_time": "2023-02-12T04:14:52.159108Z"
    }
   },
   "outputs": [],
   "source": [
    "weatherClean.to_csv(\"weather_cleaned2.csv\")"
   ]
  },
  {
   "cell_type": "code",
   "execution_count": null,
   "id": "7dbd0874",
   "metadata": {},
   "outputs": [],
   "source": []
  }
 ],
 "metadata": {
  "kernelspec": {
   "display_name": "tf_env",
   "language": "python",
   "name": "tf_env"
  },
  "language_info": {
   "codemirror_mode": {
    "name": "ipython",
    "version": 3
   },
   "file_extension": ".py",
   "mimetype": "text/x-python",
   "name": "python",
   "nbconvert_exporter": "python",
   "pygments_lexer": "ipython3",
   "version": "3.9.7"
  },
  "toc": {
   "base_numbering": 1,
   "nav_menu": {},
   "number_sections": true,
   "sideBar": true,
   "skip_h1_title": false,
   "title_cell": "Table of Contents",
   "title_sidebar": "Contents",
   "toc_cell": false,
   "toc_position": {},
   "toc_section_display": true,
   "toc_window_display": false
  },
  "varInspector": {
   "cols": {
    "lenName": 16,
    "lenType": 16,
    "lenVar": 40
   },
   "kernels_config": {
    "python": {
     "delete_cmd_postfix": "",
     "delete_cmd_prefix": "del ",
     "library": "var_list.py",
     "varRefreshCmd": "print(var_dic_list())"
    },
    "r": {
     "delete_cmd_postfix": ") ",
     "delete_cmd_prefix": "rm(",
     "library": "var_list.r",
     "varRefreshCmd": "cat(var_dic_list()) "
    }
   },
   "types_to_exclude": [
    "module",
    "function",
    "builtin_function_or_method",
    "instance",
    "_Feature"
   ],
   "window_display": false
  }
 },
 "nbformat": 4,
 "nbformat_minor": 5
}
